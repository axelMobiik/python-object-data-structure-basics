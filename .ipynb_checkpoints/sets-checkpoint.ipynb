{
 "cells": [
  {
   "cell_type": "markdown",
   "id": "75caa5d4-8955-4279-bdb8-90948b5641f9",
   "metadata": {},
   "source": [
    "Sets are unordered collections of unique elements.\n",
    "Meaning there can only be one representaive of the same object"
   ]
  },
  {
   "cell_type": "code",
   "execution_count": 1,
   "id": "9f9d9221-20c1-4315-8c4b-7a8081fbdc73",
   "metadata": {},
   "outputs": [],
   "source": [
    "myset = set()"
   ]
  },
  {
   "cell_type": "code",
   "execution_count": 2,
   "id": "5f5ed385-8231-432b-8ea9-890ca9b047ee",
   "metadata": {},
   "outputs": [
    {
     "data": {
      "text/plain": [
       "set()"
      ]
     },
     "execution_count": 2,
     "metadata": {},
     "output_type": "execute_result"
    }
   ],
   "source": [
    "myset"
   ]
  },
  {
   "cell_type": "code",
   "execution_count": 3,
   "id": "fb20e59d-927a-458b-a531-ef50835d6e12",
   "metadata": {},
   "outputs": [],
   "source": [
    "myset.add(1)"
   ]
  },
  {
   "cell_type": "code",
   "execution_count": 4,
   "id": "e50cbd1a-9cc8-4167-96a1-7b598c7bc45c",
   "metadata": {},
   "outputs": [
    {
     "data": {
      "text/plain": [
       "{1}"
      ]
     },
     "execution_count": 4,
     "metadata": {},
     "output_type": "execute_result"
    }
   ],
   "source": [
    "myset"
   ]
  },
  {
   "cell_type": "code",
   "execution_count": 5,
   "id": "7e9d9a6e-5dae-4f6c-b74f-058cb75d9ad2",
   "metadata": {},
   "outputs": [],
   "source": [
    "myset.add(2)"
   ]
  },
  {
   "cell_type": "code",
   "execution_count": 6,
   "id": "1f547653-c902-49b0-bd14-6aaeda8faf2c",
   "metadata": {},
   "outputs": [
    {
     "data": {
      "text/plain": [
       "{1, 2}"
      ]
     },
     "execution_count": 6,
     "metadata": {},
     "output_type": "execute_result"
    }
   ],
   "source": [
    "myset"
   ]
  },
  {
   "cell_type": "code",
   "execution_count": 8,
   "id": "a4bd0b62-99b1-4570-b7b5-8b31f9591c91",
   "metadata": {},
   "outputs": [],
   "source": [
    "myset.add(2)"
   ]
  },
  {
   "cell_type": "code",
   "execution_count": 10,
   "id": "ce5abb96-bb99-46b9-a107-15a12da7ebfe",
   "metadata": {},
   "outputs": [
    {
     "data": {
      "text/plain": [
       "{1, 2}"
      ]
     },
     "execution_count": 10,
     "metadata": {},
     "output_type": "execute_result"
    }
   ],
   "source": [
    "myset #Can not repeate values!! print {1, 2}, no {1, 2, 2}"
   ]
  },
  {
   "cell_type": "code",
   "execution_count": 16,
   "id": "6dbca3db-3653-4fbb-af7b-fc6a2dff3d1a",
   "metadata": {},
   "outputs": [],
   "source": [
    "mylist = [2,2,2,1,1,1,1,3,3,3,3]"
   ]
  },
  {
   "cell_type": "code",
   "execution_count": 19,
   "id": "a1c6c9a2-b964-4ead-ba30-66e8463c291c",
   "metadata": {},
   "outputs": [
    {
     "data": {
      "text/plain": [
       "[2, 2, 2, 1, 1, 1, 1, 3, 3, 3, 3]"
      ]
     },
     "execution_count": 19,
     "metadata": {},
     "output_type": "execute_result"
    }
   ],
   "source": [
    "mylist"
   ]
  },
  {
   "cell_type": "code",
   "execution_count": 26,
   "id": "494c0047-1bdc-44a6-9281-017d34f0297d",
   "metadata": {},
   "outputs": [
    {
     "data": {
      "text/plain": [
       "{1, 2, 3}"
      ]
     },
     "execution_count": 26,
     "metadata": {},
     "output_type": "execute_result"
    }
   ],
   "source": [
    "set(mylist) #only print the unique values"
   ]
  },
  {
   "cell_type": "code",
   "execution_count": null,
   "id": "2ad17672-23ab-4a0e-9d02-9c6feeb7359d",
   "metadata": {},
   "outputs": [],
   "source": []
  }
 ],
 "metadata": {
  "kernelspec": {
   "display_name": "Python 3 (ipykernel)",
   "language": "python",
   "name": "python3"
  },
  "language_info": {
   "codemirror_mode": {
    "name": "ipython",
    "version": 3
   },
   "file_extension": ".py",
   "mimetype": "text/x-python",
   "name": "python",
   "nbconvert_exporter": "python",
   "pygments_lexer": "ipython3",
   "version": "3.11.7"
  }
 },
 "nbformat": 4,
 "nbformat_minor": 5
}
