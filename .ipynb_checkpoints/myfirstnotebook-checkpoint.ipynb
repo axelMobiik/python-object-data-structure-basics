{
 "cells": [
  {
   "cell_type": "code",
   "execution_count": 1,
   "id": "63dec936-7704-47a6-8f0e-ab59ad5d98ff",
   "metadata": {},
   "outputs": [
    {
     "name": "stdout",
     "output_type": "stream",
     "text": [
      "Hello... another world(?)\n"
     ]
    }
   ],
   "source": [
    "print('Hello... another world(?)')"
   ]
  },
  {
   "cell_type": "code",
   "execution_count": 2,
   "id": "3ff54437-17e8-46a9-a985-768399cea530",
   "metadata": {},
   "outputs": [
    {
     "name": "stdout",
     "output_type": "stream",
     "text": [
      "again... hi\n"
     ]
    }
   ],
   "source": [
    "print('again... hi')"
   ]
  },
  {
   "cell_type": "code",
   "execution_count": null,
   "id": "b9dc5ce9-1e68-4922-877f-dd2771457cff",
   "metadata": {},
   "outputs": [],
   "source": []
  }
 ],
 "metadata": {
  "kernelspec": {
   "display_name": "Python 3 (ipykernel)",
   "language": "python",
   "name": "python3"
  },
  "language_info": {
   "codemirror_mode": {
    "name": "ipython",
    "version": 3
   },
   "file_extension": ".py",
   "mimetype": "text/x-python",
   "name": "python",
   "nbconvert_exporter": "python",
   "pygments_lexer": "ipython3",
   "version": "3.11.7"
  }
 },
 "nbformat": 4,
 "nbformat_minor": 5
}
