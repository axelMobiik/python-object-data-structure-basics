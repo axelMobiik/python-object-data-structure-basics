{
 "cells": [
  {
   "cell_type": "code",
   "execution_count": 3,
   "id": "63dec936-7704-47a6-8f0e-ab59ad5d98ff",
   "metadata": {},
   "outputs": [
    {
     "name": "stdout",
     "output_type": "stream",
     "text": [
      "Hello... another world(?)\n"
     ]
    }
   ],
   "source": [
    "print('Hello... another world(?)')"
   ]
  },
  {
   "cell_type": "code",
   "execution_count": 5,
   "id": "3ff54437-17e8-46a9-a985-768399cea530",
   "metadata": {},
   "outputs": [
    {
     "name": "stdout",
     "output_type": "stream",
     "text": [
      "again... hi\n"
     ]
    }
   ],
   "source": [
    "print('again... hi')"
   ]
  },
  {
   "cell_type": "markdown",
   "id": "be01656b-405f-4506-a7a0-7f03953adb35",
   "metadata": {},
   "source": [
    "Here you can write notes"
   ]
  },
  {
   "cell_type": "code",
   "execution_count": 7,
   "id": "dc4d593e-0e8a-4ab0-be06-a2e0ef03acaa",
   "metadata": {},
   "outputs": [
    {
     "name": "stdout",
     "output_type": "stream",
     "text": [
      "Stop with the \"Hi\"s\n"
     ]
    }
   ],
   "source": [
    "print('Stop with the \"Hi\"s')"
   ]
  },
  {
   "cell_type": "code",
   "execution_count": null,
   "id": "9e27c648-9999-4897-9ae1-17a70eb21ec1",
   "metadata": {},
   "outputs": [],
   "source": []
  }
 ],
 "metadata": {
  "kernelspec": {
   "display_name": "Python 3 (ipykernel)",
   "language": "python",
   "name": "python3"
  },
  "language_info": {
   "codemirror_mode": {
    "name": "ipython",
    "version": 3
   },
   "file_extension": ".py",
   "mimetype": "text/x-python",
   "name": "python",
   "nbconvert_exporter": "python",
   "pygments_lexer": "ipython3",
   "version": "3.11.7"
  }
 },
 "nbformat": 4,
 "nbformat_minor": 5
}
