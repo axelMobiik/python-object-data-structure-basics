{
 "cells": [
  {
   "cell_type": "code",
   "execution_count": 4,
   "id": "49c49721-68d1-4fb9-badd-af05503591b0",
   "metadata": {},
   "outputs": [],
   "source": [
    "my_dict = {'key1': 'value1', 'key2': 'value2'}"
   ]
  },
  {
   "cell_type": "code",
   "execution_count": 5,
   "id": "76b56747-137d-414a-9f4d-7862a2f7aff0",
   "metadata": {},
   "outputs": [
    {
     "data": {
      "text/plain": [
       "{'key1': 'value1', 'key2': 'value2'}"
      ]
     },
     "execution_count": 5,
     "metadata": {},
     "output_type": "execute_result"
    }
   ],
   "source": [
    "my_dict"
   ]
  },
  {
   "cell_type": "code",
   "execution_count": 6,
   "id": "0889e22e-3a9f-453d-9306-322d4337b4f1",
   "metadata": {},
   "outputs": [
    {
     "data": {
      "text/plain": [
       "'value1'"
      ]
     },
     "execution_count": 6,
     "metadata": {},
     "output_type": "execute_result"
    }
   ],
   "source": [
    "my_dict['key1']"
   ]
  },
  {
   "cell_type": "code",
   "execution_count": 7,
   "id": "dc37d940-bb2f-4199-95eb-fbd5c5142cfc",
   "metadata": {},
   "outputs": [],
   "source": [
    "prices_lookup = {'apple': 2.99, 'orange': 1.99, 'milk': 5.80}"
   ]
  },
  {
   "cell_type": "code",
   "execution_count": 8,
   "id": "7521b887-ca52-4368-b724-0bdb89f1495f",
   "metadata": {},
   "outputs": [
    {
     "data": {
      "text/plain": [
       "2.99"
      ]
     },
     "execution_count": 8,
     "metadata": {},
     "output_type": "execute_result"
    }
   ],
   "source": [
    "prices_lookup['apple']"
   ]
  },
  {
   "cell_type": "code",
   "execution_count": 10,
   "id": "a9f1e542-674b-472e-a98a-a103143aaf33",
   "metadata": {},
   "outputs": [],
   "source": [
    "d = {'k1': 123, 'k2': [0,1,2], 'k3': {'insideKey': 100}}"
   ]
  },
  {
   "cell_type": "code",
   "execution_count": 11,
   "id": "26bc68ed-5017-490c-bd09-d8ab4a9cf180",
   "metadata": {},
   "outputs": [
    {
     "data": {
      "text/plain": [
       "100"
      ]
     },
     "execution_count": 11,
     "metadata": {},
     "output_type": "execute_result"
    }
   ],
   "source": [
    "d['k3']['insideKey']"
   ]
  },
  {
   "cell_type": "code",
   "execution_count": 12,
   "id": "b80c8bff-707b-4e1c-85a6-5322c82affef",
   "metadata": {},
   "outputs": [
    {
     "data": {
      "text/plain": [
       "[0, 1, 2]"
      ]
     },
     "execution_count": 12,
     "metadata": {},
     "output_type": "execute_result"
    }
   ],
   "source": [
    "d['k2']"
   ]
  },
  {
   "cell_type": "code",
   "execution_count": 13,
   "id": "20ab9346-f8ef-4958-af66-3119bc55ced2",
   "metadata": {},
   "outputs": [
    {
     "data": {
      "text/plain": [
       "1"
      ]
     },
     "execution_count": 13,
     "metadata": {},
     "output_type": "execute_result"
    }
   ],
   "source": [
    "d['k2'][1]"
   ]
  },
  {
   "cell_type": "code",
   "execution_count": 14,
   "id": "fd880198-7d2d-4872-96f5-1a4acc566689",
   "metadata": {},
   "outputs": [
    {
     "data": {
      "text/plain": [
       "123"
      ]
     },
     "execution_count": 14,
     "metadata": {},
     "output_type": "execute_result"
    }
   ],
   "source": [
    "d['k1']"
   ]
  },
  {
   "cell_type": "code",
   "execution_count": 15,
   "id": "e3449e94-a1c1-4d37-aefc-01f0fd84fe68",
   "metadata": {},
   "outputs": [],
   "source": [
    "d = {'key1': ['a', 'b', 'c']}"
   ]
  },
  {
   "cell_type": "code",
   "execution_count": 16,
   "id": "e79605ae-6110-4007-8999-131804e8a575",
   "metadata": {},
   "outputs": [
    {
     "data": {
      "text/plain": [
       "{'key1': ['a', 'b', 'c']}"
      ]
     },
     "execution_count": 16,
     "metadata": {},
     "output_type": "execute_result"
    }
   ],
   "source": [
    "d"
   ]
  },
  {
   "cell_type": "code",
   "execution_count": 17,
   "id": "eb4ced2c-a417-4f52-bfe5-f88ee797979b",
   "metadata": {},
   "outputs": [],
   "source": [
    "mylist = d['key1'][2].upper()"
   ]
  },
  {
   "cell_type": "code",
   "execution_count": 18,
   "id": "100a9ad5-b2b3-46d3-853f-49c019640cf7",
   "metadata": {},
   "outputs": [
    {
     "data": {
      "text/plain": [
       "'C'"
      ]
     },
     "execution_count": 18,
     "metadata": {},
     "output_type": "execute_result"
    }
   ],
   "source": [
    "mylist"
   ]
  },
  {
   "cell_type": "code",
   "execution_count": 24,
   "id": "478cac5e-52dc-4a02-ac3e-2b7bddfced5e",
   "metadata": {},
   "outputs": [],
   "source": [
    "d = {'k1': 100, 'k2': 200}"
   ]
  },
  {
   "cell_type": "code",
   "execution_count": 25,
   "id": "e36c0d7a-3841-48c9-ac09-a8ff7cbd901d",
   "metadata": {},
   "outputs": [
    {
     "data": {
      "text/plain": [
       "{'k1': 100, 'k2': 200}"
      ]
     },
     "execution_count": 25,
     "metadata": {},
     "output_type": "execute_result"
    }
   ],
   "source": [
    "d"
   ]
  },
  {
   "cell_type": "code",
   "execution_count": 26,
   "id": "b534753c-9997-47e4-80e0-cb285bff10ce",
   "metadata": {},
   "outputs": [],
   "source": [
    "d['key3'] = 300"
   ]
  },
  {
   "cell_type": "code",
   "execution_count": 27,
   "id": "a1eef58e-ba67-42bb-b14c-a73673ec8166",
   "metadata": {},
   "outputs": [
    {
     "data": {
      "text/plain": [
       "{'k1': 100, 'k2': 200, 'key3': 300}"
      ]
     },
     "execution_count": 27,
     "metadata": {},
     "output_type": "execute_result"
    }
   ],
   "source": [
    "d"
   ]
  },
  {
   "cell_type": "code",
   "execution_count": 28,
   "id": "542abd4a-1a28-4e91-8608-96447b4ec805",
   "metadata": {},
   "outputs": [],
   "source": [
    "d['k1'] = 'NEW VALUE'"
   ]
  },
  {
   "cell_type": "code",
   "execution_count": 30,
   "id": "e1431a3a-016b-44a5-be74-e52f6a25382e",
   "metadata": {},
   "outputs": [
    {
     "data": {
      "text/plain": [
       "{'k1': 'NEW VALUE', 'k2': 200, 'key3': 300}"
      ]
     },
     "execution_count": 30,
     "metadata": {},
     "output_type": "execute_result"
    }
   ],
   "source": [
    "d"
   ]
  },
  {
   "cell_type": "code",
   "execution_count": 31,
   "id": "5440f563-e8a6-42ce-81ae-e9912a113e07",
   "metadata": {},
   "outputs": [],
   "source": [
    "d = {'k1': 100, 'k2': 200, 'key3': 300}"
   ]
  },
  {
   "cell_type": "code",
   "execution_count": 32,
   "id": "f329f224-2f43-4e2b-a2e8-a670620c5885",
   "metadata": {},
   "outputs": [
    {
     "data": {
      "text/plain": [
       "dict_keys(['k1', 'k2', 'key3'])"
      ]
     },
     "execution_count": 32,
     "metadata": {},
     "output_type": "execute_result"
    }
   ],
   "source": [
    "d.keys()"
   ]
  },
  {
   "cell_type": "code",
   "execution_count": 33,
   "id": "57f68bd7-22f3-4fe0-9859-e45c1a9aae3b",
   "metadata": {},
   "outputs": [
    {
     "data": {
      "text/plain": [
       "dict_values([100, 200, 300])"
      ]
     },
     "execution_count": 33,
     "metadata": {},
     "output_type": "execute_result"
    }
   ],
   "source": [
    "d.values()"
   ]
  },
  {
   "cell_type": "code",
   "execution_count": 34,
   "id": "378ec876-7c35-43ad-881e-3b01b6067b51",
   "metadata": {},
   "outputs": [
    {
     "data": {
      "text/plain": [
       "dict_items([('k1', 100), ('k2', 200), ('key3', 300)])"
      ]
     },
     "execution_count": 34,
     "metadata": {},
     "output_type": "execute_result"
    }
   ],
   "source": [
    "d.items()"
   ]
  },
  {
   "cell_type": "code",
   "execution_count": null,
   "id": "717bc020-ead0-419e-9c3d-a812c447c429",
   "metadata": {},
   "outputs": [],
   "source": []
  }
 ],
 "metadata": {
  "kernelspec": {
   "display_name": "Python 3 (ipykernel)",
   "language": "python",
   "name": "python3"
  },
  "language_info": {
   "codemirror_mode": {
    "name": "ipython",
    "version": 3
   },
   "file_extension": ".py",
   "mimetype": "text/x-python",
   "name": "python",
   "nbconvert_exporter": "python",
   "pygments_lexer": "ipython3",
   "version": "3.11.7"
  }
 },
 "nbformat": 4,
 "nbformat_minor": 5
}
