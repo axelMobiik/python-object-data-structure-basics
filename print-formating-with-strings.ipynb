{
 "cells": [
  {
   "cell_type": "markdown",
   "id": "d7c93ad9-d55c-47f6-90d7-8e6545650076",
   "metadata": {},
   "source": [
    "Formating with the .format() method\n",
    "\n",
    "A good way to format objects into your strings for print statements is with the string .format() method. The syntax is:\n",
    "\n",
    "'String here {} then also {}'.format('something1', 'something2')"
   ]
  },
  {
   "cell_type": "code",
   "execution_count": 1,
   "id": "d7b78265-f958-48c3-bac2-18ff2c8f0258",
   "metadata": {},
   "outputs": [
    {
     "name": "stdout",
     "output_type": "stream",
     "text": [
      "This is a string INSERTED\n"
     ]
    }
   ],
   "source": [
    "print('This is a string {}'.format('INSERTED'))"
   ]
  },
  {
   "cell_type": "code",
   "execution_count": 2,
   "id": "184deb0c-3bd8-49ec-a60e-a030dd828a3d",
   "metadata": {},
   "outputs": [
    {
     "name": "stdout",
     "output_type": "stream",
     "text": [
      "The fox brown quick\n"
     ]
    }
   ],
   "source": [
    "print('The {} {} {}'.format('fox', 'brown', 'quick'))"
   ]
  },
  {
   "cell_type": "code",
   "execution_count": 9,
   "id": "dad04202-954d-4b7d-bfa4-a88b74523c71",
   "metadata": {},
   "outputs": [
    {
     "name": "stdout",
     "output_type": "stream",
     "text": [
      "The quick brown fox\n"
     ]
    }
   ],
   "source": [
    "print('The {2} {1} {0}'.format('fox', 'brown', 'quick'))"
   ]
  },
  {
   "cell_type": "code",
   "execution_count": 10,
   "id": "369a9a39-e52f-4aba-9c44-19f39d522880",
   "metadata": {},
   "outputs": [
    {
     "name": "stdout",
     "output_type": "stream",
     "text": [
      "The quick brown fox\n"
     ]
    }
   ],
   "source": [
    "print( 'The {q} {b} {f}'.format( f = 'fox', b = 'brown', q = 'quick' ) )"
   ]
  },
  {
   "cell_type": "markdown",
   "id": "fb07a7c8-176a-48f7-9558-0498b6d7692f",
   "metadata": {},
   "source": [
    "Float formatting follows \"{value: width.presicion f}\""
   ]
  },
  {
   "cell_type": "code",
   "execution_count": 11,
   "id": "a2c8afbf-07a7-48d1-b6ef-fe5c4fa85beb",
   "metadata": {},
   "outputs": [],
   "source": [
    "result = 100/777"
   ]
  },
  {
   "cell_type": "code",
   "execution_count": 12,
   "id": "679297fb-e6e3-4d88-9bc5-8e0abab92ab4",
   "metadata": {},
   "outputs": [
    {
     "data": {
      "text/plain": [
       "0.1287001287001287"
      ]
     },
     "execution_count": 12,
     "metadata": {},
     "output_type": "execute_result"
    }
   ],
   "source": [
    "result"
   ]
  },
  {
   "cell_type": "code",
   "execution_count": 13,
   "id": "65a585e1-5a5a-4693-b706-1b46b7ff7629",
   "metadata": {},
   "outputs": [
    {
     "name": "stdout",
     "output_type": "stream",
     "text": [
      "The result was 0.1287001287001287\n"
     ]
    }
   ],
   "source": [
    "print(\"The result was {}\".format(result))"
   ]
  },
  {
   "cell_type": "code",
   "execution_count": 14,
   "id": "f48e81e9-543c-4fb4-a28d-39bda45a843c",
   "metadata": {},
   "outputs": [
    {
     "name": "stdout",
     "output_type": "stream",
     "text": [
      "The result was 0.1287001287001287\n"
     ]
    }
   ],
   "source": [
    "print(\"The result was {r}\".format(r = result))"
   ]
  },
  {
   "cell_type": "code",
   "execution_count": 16,
   "id": "706bff22-3335-411a-918a-d06b54777a41",
   "metadata": {},
   "outputs": [
    {
     "name": "stdout",
     "output_type": "stream",
     "text": [
      "The result was 0.129\n"
     ]
    }
   ],
   "source": [
    "print(\"The result was {r:1.3f}\".format(r = result))"
   ]
  },
  {
   "cell_type": "code",
   "execution_count": 17,
   "id": "6734c56e-eb2c-4672-bdea-4898f3f53e6a",
   "metadata": {},
   "outputs": [
    {
     "name": "stdout",
     "output_type": "stream",
     "text": [
      "The result was 0.1287\n"
     ]
    }
   ],
   "source": [
    "print(\"The result was {r:1.4f}\".format(r = result))"
   ]
  },
  {
   "cell_type": "code",
   "execution_count": 28,
   "id": "a949b224-7fcb-4968-8ab9-e42a72d839da",
   "metadata": {},
   "outputs": [
    {
     "name": "stdout",
     "output_type": "stream",
     "text": [
      "The result was 0.129\n"
     ]
    }
   ],
   "source": [
    "print(\"The result was {r:1.3f}\".format(r = result))"
   ]
  },
  {
   "cell_type": "code",
   "execution_count": 29,
   "id": "293501cd-6f37-4dd7-8088-fb871f5324f1",
   "metadata": {},
   "outputs": [
    {
     "name": "stdout",
     "output_type": "stream",
     "text": [
      "The result was      0.129\n"
     ]
    }
   ],
   "source": [
    "print(\"The result was {r:10.3f}\".format(r = result))"
   ]
  },
  {
   "cell_type": "code",
   "execution_count": 31,
   "id": "d821a872-0758-4506-9614-2630d8c67cb6",
   "metadata": {},
   "outputs": [
    {
     "name": "stdout",
     "output_type": "stream",
     "text": [
      "The result was    0.12870\n"
     ]
    }
   ],
   "source": [
    "print(\"The result was {r:10.5f}\".format(r = result))"
   ]
  },
  {
   "cell_type": "code",
   "execution_count": 32,
   "id": "1549bf7f-ef85-40f8-b976-9b21298d181f",
   "metadata": {},
   "outputs": [],
   "source": [
    "result = 104.12345"
   ]
  },
  {
   "cell_type": "code",
   "execution_count": 35,
   "id": "78f3d042-5476-4848-908f-e6787e7240c2",
   "metadata": {},
   "outputs": [
    {
     "name": "stdout",
     "output_type": "stream",
     "text": [
      "The result was 104.12\n"
     ]
    }
   ],
   "source": [
    "print(\"The result was {r:1.2f}\".format(r = result))"
   ]
  },
  {
   "cell_type": "code",
   "execution_count": 37,
   "id": "5a043619-bd70-4199-b9da-520768ee3584",
   "metadata": {},
   "outputs": [],
   "source": [
    "name = 'Jose'"
   ]
  },
  {
   "cell_type": "code",
   "execution_count": 38,
   "id": "466235de-8bec-429e-9546-93f374458c64",
   "metadata": {},
   "outputs": [
    {
     "name": "stdout",
     "output_type": "stream",
     "text": [
      "Hello, his name is Jose\n"
     ]
    }
   ],
   "source": [
    "print('Hello, his name is {}'.format(name))"
   ]
  },
  {
   "cell_type": "code",
   "execution_count": 39,
   "id": "ba86097d-9ba5-4b6c-a472-3fc24650e76b",
   "metadata": {},
   "outputs": [
    {
     "name": "stdout",
     "output_type": "stream",
     "text": [
      "Hello, his name is Jose\n"
     ]
    }
   ],
   "source": [
    "print(f'Hello, his name is {name}')"
   ]
  },
  {
   "cell_type": "code",
   "execution_count": 40,
   "id": "4016d192-98a8-4807-a627-1f2a857a4137",
   "metadata": {},
   "outputs": [],
   "source": [
    "name = 'Axel'\n",
    "age = 26"
   ]
  },
  {
   "cell_type": "code",
   "execution_count": 41,
   "id": "b6891f68-3b0e-4061-b651-78afdd21fa11",
   "metadata": {},
   "outputs": [
    {
     "name": "stdout",
     "output_type": "stream",
     "text": [
      "Hola, mi nombre es Axel y tengo 26 años\n"
     ]
    }
   ],
   "source": [
    "print(f'Hola, mi nombre es {name} y tengo {age} años')"
   ]
  },
  {
   "cell_type": "code",
   "execution_count": null,
   "id": "71611989-eae3-47c4-aab0-0e71edc2e435",
   "metadata": {},
   "outputs": [],
   "source": []
  }
 ],
 "metadata": {
  "kernelspec": {
   "display_name": "Python 3 (ipykernel)",
   "language": "python",
   "name": "python3"
  },
  "language_info": {
   "codemirror_mode": {
    "name": "ipython",
    "version": 3
   },
   "file_extension": ".py",
   "mimetype": "text/x-python",
   "name": "python",
   "nbconvert_exporter": "python",
   "pygments_lexer": "ipython3",
   "version": "3.11.7"
  }
 },
 "nbformat": 4,
 "nbformat_minor": 5
}
